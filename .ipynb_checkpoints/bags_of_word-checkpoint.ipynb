{
 "cells": [
  {
   "cell_type": "markdown",
   "id": "a05b8094-4851-4338-a5d8-dee3354bd58b",
   "metadata": {},
   "source": [
    "# Final Project: Bag of Words Method (Dog vs Cat Classification)\n",
    "\n",
    "Hello! Welcome to my final project! Throughout this notebook, I will be exploring and implementing the nortious Bag of Words Method to distinguish pictures between dogs and cats. Based on the algorithm we learned in class, we will organize this project into three parts:\n",
    "1. Dictionary Learning (Learn Visual Words using Clustering)\n",
    "2. Encode build Bag of Words vectors for each image\n",
    "3. Classify (Train and test data using BOWs)\n",
    "\n",
    "There are **two main goal** of this project: \n",
    "1. Learning how this method is able to breakdown and analyze pictures using computer vision techniques we have learned in this course in combination of utilizing mathematical tools to cluster and encode these images\n",
    "2. The difference in accuarcy of classification, using K nearest neighbors and an neural network"
   ]
  },
  {
   "cell_type": "code",
   "execution_count": null,
   "id": "acbd0d58-adde-43c3-bcfb-69c4c360d84b",
   "metadata": {},
   "outputs": [],
   "source": []
  }
 ],
 "metadata": {
  "kernelspec": {
   "display_name": "Python 3 (ipykernel)",
   "language": "python",
   "name": "python3"
  },
  "language_info": {
   "codemirror_mode": {
    "name": "ipython",
    "version": 3
   },
   "file_extension": ".py",
   "mimetype": "text/x-python",
   "name": "python",
   "nbconvert_exporter": "python",
   "pygments_lexer": "ipython3",
   "version": "3.12.0"
  }
 },
 "nbformat": 4,
 "nbformat_minor": 5
}
